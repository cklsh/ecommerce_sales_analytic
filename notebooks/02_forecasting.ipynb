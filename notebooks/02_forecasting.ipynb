{
 "cells": [
  {
   "cell_type": "code",
   "execution_count": null,
   "id": "0",
   "metadata": {},
   "outputs": [],
   "source": [
    "import pandas as pd\n",
    "from prophet import Prophet\n",
    "import matplotlib.pyplot as plt\n",
    "import sys\n",
    "sys.path.append('../scripts')\n",
    "from load_data import load_and_clean_data"
   ]
  },
  {
   "cell_type": "code",
   "execution_count": null,
   "id": "1",
   "metadata": {},
   "outputs": [],
   "source": [
    "\n",
    "# Group by daily sales\n",
    "df = load_and_clean_data()\n",
    "daily_sales = df.groupby(df['order_completion_date'].dt.date)['total_price'].sum().reset_index()\n",
    "daily_sales.columns = ['ds', 'y']\n",
    "\n",
    "# Initialize Prophet\n",
    "model = Prophet(changepoints=['2024-11-10', '2024-12-31'], changepoint_prior_scale=0.01)\n",
    "model.fit(daily_sales)\n",
    "\n",
    "# Create future DataFrame\n",
    "future = model.make_future_dataframe(periods=365) #30 days forecast\n",
    "\n",
    "# Predict\n",
    "forecast = model.predict(future)"
   ]
  },
  {
   "cell_type": "code",
   "execution_count": null,
   "id": "2",
   "metadata": {},
   "outputs": [],
   "source": [
    "# Plot\n",
    "firstFigure = model.plot(forecast)\n",
    "plt.title('Forecasted Total Sales')\n",
    "plt.xlabel('Date')\n",
    "plt.ylabel('Sales')\n",
    "plt.show()"
   ]
  },
  {
   "cell_type": "code",
   "execution_count": null,
   "id": "3",
   "metadata": {},
   "outputs": [],
   "source": [
    "\n",
    "# Plot trend\n",
    "secondFigure = model.plot_components(forecast)\n",
    "plt.show()"
   ]
  }
 ],
 "metadata": {
  "kernelspec": {
   "display_name": ".venv",
   "language": "python",
   "name": "python3"
  },
  "language_info": {
   "codemirror_mode": {
    "name": "ipython",
    "version": 3
   },
   "file_extension": ".py",
   "mimetype": "text/x-python",
   "name": "python",
   "nbconvert_exporter": "python",
   "pygments_lexer": "ipython3",
   "version": "3.13.4"
  }
 },
 "nbformat": 4,
 "nbformat_minor": 5
}
