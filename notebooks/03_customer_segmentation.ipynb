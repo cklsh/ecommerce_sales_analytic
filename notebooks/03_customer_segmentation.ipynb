{
 "cells": [
  {
   "cell_type": "code",
   "execution_count": null,
   "id": "0",
   "metadata": {},
   "outputs": [],
   "source": [
    "import pandas as pd\n",
    "import numpy as np\n",
    "import matplotlib.pyplot as plt\n",
    "import seaborn as sns\n",
    "from sklearn.cluster import KMeans\n",
    "from sklearn.preprocessing import StandardScaler\n",
    "\n",
    "import sys\n",
    "sys.path.append('../scripts')  \n",
    "from load_data import load_and_clean_data, define_customer_df_features"
   ]
  },
  {
   "cell_type": "code",
   "execution_count": null,
   "id": "1",
   "metadata": {},
   "outputs": [],
   "source": [
    "df = load_and_clean_data()\n",
    "customer_df = define_customer_df_features(df)"
   ]
  },
  {
   "cell_type": "code",
   "execution_count": null,
   "id": "2",
   "metadata": {},
   "outputs": [],
   "source": [
    "# standardize fetures\n",
    "features = ['total_orders', 'total_spent', 'recency_days', 'aov'] #define feature to use for clustering\n",
    "X = customer_df[features].dropna(subset=features)\n",
    "customer_df_filtered = customer_df.loc[X.index]\n",
    "scaler = StandardScaler() #to normalize the feature values\n",
    "X_scaled = scaler.fit_transform(X) #scaling the data to have the same scale"
   ]
  },
  {
   "cell_type": "code",
   "execution_count": null,
   "id": "3",
   "metadata": {},
   "outputs": [],
   "source": [
    "# elbow method to find optimal K\n",
    "\n",
    "inertia = []\n",
    "K_range = range(1,10)\n",
    "for k in K_range:\n",
    "    # Create a KMeans model with k clusters and a fixed random seed for reproducibility\n",
    "    kmeans = KMeans(n_clusters=k, random_state=42) #random_state can use any number; \n",
    "    kmeans.fit(X_scaled) # Fit the KMeans model on the scaled data\n",
    "    inertia.append(kmeans.inertia_) #the lower the better; inertia = total within-cluster squared euclidean\n",
    "\n",
    "plt.figure()\n",
    "plt.plot(K_range, inertia, marker='o')\n",
    "plt.title('Elbow Method For Optimal K')\n",
    "plt.xlabel('Number of clusters (k)')\n",
    "plt.ylabel('Inertia')\n",
    "plt.tight_layout()\n",
    "plt.show()"
   ]
  },
  {
   "cell_type": "code",
   "execution_count": null,
   "id": "4",
   "metadata": {},
   "outputs": [],
   "source": [
    "# Kmeans\n",
    "kmeans = KMeans(n_clusters=4, random_state=42) #based on elbow method result\n",
    "customer_df_filtered['cluster'] = kmeans.fit_predict(X_scaled)"
   ]
  },
  {
   "cell_type": "code",
   "execution_count": null,
   "id": "5",
   "metadata": {},
   "outputs": [],
   "source": [
    "# visualize clusters\n",
    "sns.pairplot(customer_df_filtered, vars=features, hue='cluster', palette='Set2')\n",
    "plt.suptitle('Customer Segments', y=1.02)\n",
    "plt.tight_layout()\n",
    "plt.show()"
   ]
  },
  {
   "cell_type": "code",
   "execution_count": null,
   "id": "6",
   "metadata": {},
   "outputs": [],
   "source": [
    "# check cluster profiles\n",
    "cluster_summary = customer_df_filtered.groupby('cluster')[features].mean()\n",
    "print(cluster_summary)"
   ]
  }
 ],
 "metadata": {
  "kernelspec": {
   "display_name": ".venv",
   "language": "python",
   "name": "python3"
  },
  "language_info": {
   "codemirror_mode": {
    "name": "ipython",
    "version": 3
   },
   "file_extension": ".py",
   "mimetype": "text/x-python",
   "name": "python",
   "nbconvert_exporter": "python",
   "pygments_lexer": "ipython3",
   "version": "3.13.4"
  }
 },
 "nbformat": 4,
 "nbformat_minor": 5
}
