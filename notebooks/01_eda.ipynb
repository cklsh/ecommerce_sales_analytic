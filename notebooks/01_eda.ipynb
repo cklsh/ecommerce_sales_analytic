{
 "cells": [
  {
   "cell_type": "code",
   "execution_count": null,
   "id": "0",
   "metadata": {},
   "outputs": [],
   "source": [
    "\n",
    "import pandas as pd \n",
    "import numpy as np\n",
    "import matplotlib.pyplot as plt\n",
    "import seaborn as sns\n",
    "\n",
    "import sys\n",
    "sys.path.append('../scripts')  \n",
    "from load_data import load_and_clean_data\n",
    "\n",
    "df = load_and_clean_data()\n",
    "\n",
    "# 1. Sales Trend\n",
    "# df['order_completion_date'] = pd.to_datetime(df['order_completion_date'])\n",
    "sales_by_day = df.groupby(df['order_completion_date'].dt.date)['total_price'].sum()\n",
    "\n",
    "plt.figure(figsize=(12,5))\n",
    "sales_by_day.plot()\n",
    "plt.title(\"Daily Total Sales by 2024\")\n",
    "plt.xlabel(\"Date\")\n",
    "plt.ylabel(\"Sales\")\n",
    "plt.show()\n",
    "\n",
    "# 2. Top-Selling Product Variant\n",
    "top_products = df.groupby('variant')['total_price'].sum().sort_values(ascending=False).head(10)\n",
    "plt.figure(figsize=(10,6))\n",
    "x = top_products.values\n",
    "y = top_products.index\n",
    "sns.barplot(x=x, y=y, palette='viridis', hue=y)\n",
    "plt.title(\"Top 10 Best Selling Products\")\n",
    "plt.xlabel(\"Product Variant\")\n",
    "plt.ylabel(\"Sales\")\n",
    "plt.tight_layout\n",
    "plt.show()\n",
    "\n",
    "# 3. Basic Consumer Insight\n",
    "user_date = df[['username', 'order_completion_date']].drop_duplicates()  # Remove duplicate (username, date) pairs to count each purchase per day only once per user\n",
    "order_counts = user_date['username'].value_counts() #count each user purchased in diff dates\n",
    "repeat_customer_count= (order_counts >1).sum() #consumer who buy product >1 time\n",
    "repeat_rate = repeat_customer_count/ order_counts.shape[0] #df.shape -> (rows, columns); \n",
    "\n",
    "print(f\"Repeat customer: {repeat_customer_count}\")\n",
    "print(f\"Repeat Customer Rate: {repeat_rate:0.2%}\")"
   ]
  }
 ],
 "metadata": {
  "kernelspec": {
   "display_name": ".venv",
   "language": "python",
   "name": "python3"
  },
  "language_info": {
   "codemirror_mode": {
    "name": "ipython",
    "version": 3
   },
   "file_extension": ".py",
   "mimetype": "text/x-python",
   "name": "python",
   "nbconvert_exporter": "python",
   "pygments_lexer": "ipython3",
   "version": "3.13.4"
  }
 },
 "nbformat": 4,
 "nbformat_minor": 5
}
